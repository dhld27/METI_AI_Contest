{
 "cells": [
  {
   "cell_type": "code",
   "execution_count": 1,
   "id": "bfb51bd4",
   "metadata": {},
   "outputs": [],
   "source": [
    "import pandas as pd\n",
    "import numpy as np\n",
    "import matplotlib.pyplot as plt\n"
   ]
  },
  {
   "cell_type": "code",
   "execution_count": null,
   "id": "6552f7c2",
   "metadata": {},
   "outputs": [],
   "source": [
    "# Load the synthetic dataset\n",
    "df = pd.read_csv('synthetic_wtp_laptop_data.csv')"
   ]
  },
  {
   "cell_type": "code",
   "execution_count": 4,
   "id": "8c72a4b7",
   "metadata": {},
   "outputs": [
    {
     "data": {
      "application/vnd.microsoft.datawrangler.viewer.v0+json": {
       "columns": [
        {
         "name": "index",
         "rawType": "int64",
         "type": "integer"
        },
        {
         "name": "Memory",
         "rawType": "int64",
         "type": "integer"
        },
        {
         "name": "Storage",
         "rawType": "int64",
         "type": "integer"
        },
        {
         "name": "CPU_class",
         "rawType": "int64",
         "type": "integer"
        },
        {
         "name": "Screen_size",
         "rawType": "float64",
         "type": "float"
        },
        {
         "name": "year",
         "rawType": "int64",
         "type": "integer"
        },
        {
         "name": "price",
         "rawType": "int64",
         "type": "integer"
        }
       ],
       "ref": "93e51a1d-30c2-4d88-943a-334c227d9518",
       "rows": [
        [
         "0",
         "8",
         "1024",
         "3",
         "16.0",
         "2025",
         "162021"
        ],
        [
         "1",
         "32",
         "1024",
         "0",
         "16.0",
         "2024",
         "112214"
        ],
        [
         "2",
         "16",
         "512",
         "1",
         "16.0",
         "2025",
         "118354"
        ],
        [
         "3",
         "16",
         "1024",
         "1",
         "16.0",
         "2025",
         "123383"
        ],
        [
         "4",
         "16",
         "256",
         "3",
         "16.0",
         "2024",
         "162968"
        ],
        [
         "5",
         "32",
         "1024",
         "0",
         "15.6",
         "2024",
         "106427"
        ],
        [
         "6",
         "8",
         "1024",
         "1",
         "15.6",
         "2025",
         "114523"
        ],
        [
         "7",
         "32",
         "512",
         "0",
         "15.6",
         "2024",
         "107497"
        ],
        [
         "8",
         "8",
         "1024",
         "3",
         "15.6",
         "2025",
         "165259"
        ],
        [
         "9",
         "8",
         "512",
         "2",
         "16.0",
         "2025",
         "133889"
        ],
        [
         "10",
         "16",
         "256",
         "1",
         "15.6",
         "2025",
         "110701"
        ],
        [
         "11",
         "32",
         "1024",
         "1",
         "15.6",
         "2024",
         "136358"
        ],
        [
         "12",
         "32",
         "256",
         "0",
         "14.0",
         "2024",
         "94956"
        ],
        [
         "13",
         "32",
         "256",
         "3",
         "16.0",
         "2025",
         "180524"
        ],
        [
         "14",
         "32",
         "512",
         "2",
         "15.6",
         "2025",
         "156862"
        ],
        [
         "15",
         "32",
         "1024",
         "1",
         "15.6",
         "2025",
         "140693"
        ],
        [
         "16",
         "16",
         "512",
         "1",
         "15.6",
         "2025",
         "111167"
        ],
        [
         "17",
         "8",
         "512",
         "2",
         "14.0",
         "2025",
         "126814"
        ],
        [
         "18",
         "32",
         "256",
         "2",
         "15.6",
         "2025",
         "156389"
        ],
        [
         "19",
         "16",
         "256",
         "1",
         "16.0",
         "2024",
         "108471"
        ],
        [
         "20",
         "16",
         "256",
         "1",
         "15.6",
         "2025",
         "108306"
        ],
        [
         "21",
         "16",
         "256",
         "2",
         "14.0",
         "2025",
         "135507"
        ],
        [
         "22",
         "8",
         "1024",
         "2",
         "15.6",
         "2024",
         "135945"
        ],
        [
         "23",
         "32",
         "1024",
         "2",
         "14.0",
         "2025",
         "163009"
        ],
        [
         "24",
         "32",
         "1024",
         "0",
         "15.6",
         "2025",
         "114298"
        ],
        [
         "25",
         "16",
         "256",
         "1",
         "15.6",
         "2025",
         "108208"
        ],
        [
         "26",
         "16",
         "256",
         "2",
         "14.0",
         "2025",
         "138307"
        ],
        [
         "27",
         "32",
         "256",
         "3",
         "16.0",
         "2025",
         "186970"
        ],
        [
         "28",
         "16",
         "512",
         "2",
         "14.0",
         "2024",
         "139633"
        ],
        [
         "29",
         "16",
         "512",
         "1",
         "16.0",
         "2025",
         "115800"
        ],
        [
         "30",
         "16",
         "512",
         "2",
         "16.0",
         "2024",
         "141711"
        ],
        [
         "31",
         "8",
         "256",
         "0",
         "14.0",
         "2024",
         "72114"
        ],
        [
         "32",
         "8",
         "1024",
         "0",
         "15.6",
         "2025",
         "85524"
        ],
        [
         "33",
         "16",
         "256",
         "2",
         "14.0",
         "2025",
         "131132"
        ],
        [
         "34",
         "32",
         "256",
         "3",
         "14.0",
         "2025",
         "183665"
        ],
        [
         "35",
         "8",
         "1024",
         "3",
         "16.0",
         "2025",
         "166435"
        ],
        [
         "36",
         "32",
         "1024",
         "2",
         "16.0",
         "2024",
         "167002"
        ],
        [
         "37",
         "32",
         "256",
         "0",
         "14.0",
         "2024",
         "97018"
        ],
        [
         "38",
         "8",
         "512",
         "3",
         "14.0",
         "2025",
         "152099"
        ],
        [
         "39",
         "16",
         "1024",
         "1",
         "14.0",
         "2025",
         "117078"
        ],
        [
         "40",
         "8",
         "1024",
         "1",
         "15.6",
         "2025",
         "111058"
        ],
        [
         "41",
         "32",
         "1024",
         "3",
         "14.0",
         "2024",
         "187496"
        ],
        [
         "42",
         "32",
         "512",
         "2",
         "14.0",
         "2024",
         "153718"
        ],
        [
         "43",
         "16",
         "512",
         "2",
         "15.6",
         "2025",
         "138999"
        ],
        [
         "44",
         "8",
         "1024",
         "1",
         "14.0",
         "2025",
         "108220"
        ],
        [
         "45",
         "32",
         "256",
         "3",
         "16.0",
         "2025",
         "182752"
        ],
        [
         "46",
         "16",
         "256",
         "1",
         "16.0",
         "2025",
         "115509"
        ],
        [
         "47",
         "32",
         "512",
         "2",
         "16.0",
         "2025",
         "157133"
        ],
        [
         "48",
         "32",
         "1024",
         "3",
         "14.0",
         "2025",
         "187557"
        ],
        [
         "49",
         "32",
         "256",
         "2",
         "16.0",
         "2025",
         "155102"
        ]
       ],
       "shape": {
        "columns": 6,
        "rows": 1000
       }
      },
      "text/html": [
       "<div>\n",
       "<style scoped>\n",
       "    .dataframe tbody tr th:only-of-type {\n",
       "        vertical-align: middle;\n",
       "    }\n",
       "\n",
       "    .dataframe tbody tr th {\n",
       "        vertical-align: top;\n",
       "    }\n",
       "\n",
       "    .dataframe thead th {\n",
       "        text-align: right;\n",
       "    }\n",
       "</style>\n",
       "<table border=\"1\" class=\"dataframe\">\n",
       "  <thead>\n",
       "    <tr style=\"text-align: right;\">\n",
       "      <th></th>\n",
       "      <th>Memory</th>\n",
       "      <th>Storage</th>\n",
       "      <th>CPU_class</th>\n",
       "      <th>Screen_size</th>\n",
       "      <th>year</th>\n",
       "      <th>price</th>\n",
       "    </tr>\n",
       "  </thead>\n",
       "  <tbody>\n",
       "    <tr>\n",
       "      <th>0</th>\n",
       "      <td>8</td>\n",
       "      <td>1024</td>\n",
       "      <td>3</td>\n",
       "      <td>16.0</td>\n",
       "      <td>2025</td>\n",
       "      <td>162021</td>\n",
       "    </tr>\n",
       "    <tr>\n",
       "      <th>1</th>\n",
       "      <td>32</td>\n",
       "      <td>1024</td>\n",
       "      <td>0</td>\n",
       "      <td>16.0</td>\n",
       "      <td>2024</td>\n",
       "      <td>112214</td>\n",
       "    </tr>\n",
       "    <tr>\n",
       "      <th>2</th>\n",
       "      <td>16</td>\n",
       "      <td>512</td>\n",
       "      <td>1</td>\n",
       "      <td>16.0</td>\n",
       "      <td>2025</td>\n",
       "      <td>118354</td>\n",
       "    </tr>\n",
       "    <tr>\n",
       "      <th>3</th>\n",
       "      <td>16</td>\n",
       "      <td>1024</td>\n",
       "      <td>1</td>\n",
       "      <td>16.0</td>\n",
       "      <td>2025</td>\n",
       "      <td>123383</td>\n",
       "    </tr>\n",
       "    <tr>\n",
       "      <th>4</th>\n",
       "      <td>16</td>\n",
       "      <td>256</td>\n",
       "      <td>3</td>\n",
       "      <td>16.0</td>\n",
       "      <td>2024</td>\n",
       "      <td>162968</td>\n",
       "    </tr>\n",
       "    <tr>\n",
       "      <th>...</th>\n",
       "      <td>...</td>\n",
       "      <td>...</td>\n",
       "      <td>...</td>\n",
       "      <td>...</td>\n",
       "      <td>...</td>\n",
       "      <td>...</td>\n",
       "    </tr>\n",
       "    <tr>\n",
       "      <th>995</th>\n",
       "      <td>16</td>\n",
       "      <td>256</td>\n",
       "      <td>2</td>\n",
       "      <td>15.6</td>\n",
       "      <td>2025</td>\n",
       "      <td>140531</td>\n",
       "    </tr>\n",
       "    <tr>\n",
       "      <th>996</th>\n",
       "      <td>16</td>\n",
       "      <td>512</td>\n",
       "      <td>1</td>\n",
       "      <td>14.0</td>\n",
       "      <td>2024</td>\n",
       "      <td>111736</td>\n",
       "    </tr>\n",
       "    <tr>\n",
       "      <th>997</th>\n",
       "      <td>16</td>\n",
       "      <td>1024</td>\n",
       "      <td>1</td>\n",
       "      <td>16.0</td>\n",
       "      <td>2024</td>\n",
       "      <td>121816</td>\n",
       "    </tr>\n",
       "    <tr>\n",
       "      <th>998</th>\n",
       "      <td>32</td>\n",
       "      <td>256</td>\n",
       "      <td>1</td>\n",
       "      <td>16.0</td>\n",
       "      <td>2024</td>\n",
       "      <td>127886</td>\n",
       "    </tr>\n",
       "    <tr>\n",
       "      <th>999</th>\n",
       "      <td>16</td>\n",
       "      <td>256</td>\n",
       "      <td>2</td>\n",
       "      <td>15.6</td>\n",
       "      <td>2025</td>\n",
       "      <td>140834</td>\n",
       "    </tr>\n",
       "  </tbody>\n",
       "</table>\n",
       "<p>1000 rows × 6 columns</p>\n",
       "</div>"
      ],
      "text/plain": [
       "     Memory  Storage  CPU_class  Screen_size  year   price\n",
       "0         8     1024          3         16.0  2025  162021\n",
       "1        32     1024          0         16.0  2024  112214\n",
       "2        16      512          1         16.0  2025  118354\n",
       "3        16     1024          1         16.0  2025  123383\n",
       "4        16      256          3         16.0  2024  162968\n",
       "..      ...      ...        ...          ...   ...     ...\n",
       "995      16      256          2         15.6  2025  140531\n",
       "996      16      512          1         14.0  2024  111736\n",
       "997      16     1024          1         16.0  2024  121816\n",
       "998      32      256          1         16.0  2024  127886\n",
       "999      16      256          2         15.6  2025  140834\n",
       "\n",
       "[1000 rows x 6 columns]"
      ]
     },
     "execution_count": 4,
     "metadata": {},
     "output_type": "execute_result"
    }
   ],
   "source": [
    "# show the dataset\n",
    "df"
   ]
  },
  {
   "cell_type": "code",
   "execution_count": null,
   "id": "b660f0ab",
   "metadata": {},
   "outputs": [
    {
     "name": "stdout",
     "output_type": "stream",
     "text": [
      "<class 'pandas.core.frame.DataFrame'>\n",
      "RangeIndex: 1000 entries, 0 to 999\n",
      "Data columns (total 6 columns):\n",
      " #   Column       Non-Null Count  Dtype  \n",
      "---  ------       --------------  -----  \n",
      " 0   Memory       1000 non-null   int64  \n",
      " 1   Storage      1000 non-null   int64  \n",
      " 2   CPU_class    1000 non-null   int64  \n",
      " 3   Screen_size  1000 non-null   float64\n",
      " 4   year         1000 non-null   int64  \n",
      " 5   price        1000 non-null   int64  \n",
      "dtypes: float64(1), int64(5)\n",
      "memory usage: 47.0 KB\n"
     ]
    },
    {
     "data": {
      "text/plain": [
       "(None,\n",
       "             Memory      Storage    CPU_class  Screen_size         year  \\\n",
       " count  1000.000000  1000.000000  1000.000000  1000.000000  1000.000000   \n",
       " mean     18.704000   594.688000     1.502000    15.203200  2024.524000   \n",
       " std      10.009024   319.767594     1.123948     0.864278     0.499674   \n",
       " min       8.000000   256.000000     0.000000    14.000000  2024.000000   \n",
       " 25%       8.000000   256.000000     1.000000    14.000000  2024.000000   \n",
       " 50%      16.000000   512.000000     1.000000    15.600000  2025.000000   \n",
       " 75%      32.000000  1024.000000     3.000000    16.000000  2025.000000   \n",
       " max      32.000000  1024.000000     3.000000    16.000000  2025.000000   \n",
       " \n",
       "                price  \n",
       " count    1000.000000  \n",
       " mean   130315.719000  \n",
       " std     32338.091721  \n",
       " min     69302.000000  \n",
       " 25%    105048.000000  \n",
       " 50%    130536.000000  \n",
       " 75%    158933.750000  \n",
       " max    195617.000000  )"
      ]
     },
     "execution_count": 5,
     "metadata": {},
     "output_type": "execute_result"
    }
   ],
   "source": [
    "# check the data types and basic statistics\n",
    "df.info()"
   ]
  },
  {
   "cell_type": "code",
   "execution_count": 14,
   "id": "110280ab",
   "metadata": {},
   "outputs": [
    {
     "data": {
      "application/vnd.microsoft.datawrangler.viewer.v0+json": {
       "columns": [
        {
         "name": "index",
         "rawType": "object",
         "type": "string"
        },
        {
         "name": "Memory",
         "rawType": "float64",
         "type": "float"
        },
        {
         "name": "Storage",
         "rawType": "float64",
         "type": "float"
        },
        {
         "name": "CPU_class",
         "rawType": "float64",
         "type": "float"
        },
        {
         "name": "Screen_size",
         "rawType": "float64",
         "type": "float"
        },
        {
         "name": "year",
         "rawType": "float64",
         "type": "float"
        },
        {
         "name": "price",
         "rawType": "float64",
         "type": "float"
        }
       ],
       "ref": "680d607c-21e2-4f75-9381-63ffaee4b715",
       "rows": [
        [
         "count",
         "1000.0",
         "1000.0",
         "1000.0",
         "1000.0",
         "1000.0",
         "1000.0"
        ],
        [
         "mean",
         "18.704",
         "594.688",
         "1.502",
         "15.203199999999999",
         "2024.524",
         "130315.719"
        ],
        [
         "std",
         "10.009024156458239",
         "319.7675936832404",
         "1.1239480678657974",
         "0.8642781593542306",
         "0.4996735671152453",
         "32338.09172134647"
        ],
        [
         "min",
         "8.0",
         "256.0",
         "0.0",
         "14.0",
         "2024.0",
         "69302.0"
        ],
        [
         "25%",
         "8.0",
         "256.0",
         "1.0",
         "14.0",
         "2024.0",
         "105048.0"
        ],
        [
         "50%",
         "16.0",
         "512.0",
         "1.0",
         "15.6",
         "2025.0",
         "130536.0"
        ],
        [
         "75%",
         "32.0",
         "1024.0",
         "3.0",
         "16.0",
         "2025.0",
         "158933.75"
        ],
        [
         "max",
         "32.0",
         "1024.0",
         "3.0",
         "16.0",
         "2025.0",
         "195617.0"
        ]
       ],
       "shape": {
        "columns": 6,
        "rows": 8
       }
      },
      "text/html": [
       "<div>\n",
       "<style scoped>\n",
       "    .dataframe tbody tr th:only-of-type {\n",
       "        vertical-align: middle;\n",
       "    }\n",
       "\n",
       "    .dataframe tbody tr th {\n",
       "        vertical-align: top;\n",
       "    }\n",
       "\n",
       "    .dataframe thead th {\n",
       "        text-align: right;\n",
       "    }\n",
       "</style>\n",
       "<table border=\"1\" class=\"dataframe\">\n",
       "  <thead>\n",
       "    <tr style=\"text-align: right;\">\n",
       "      <th></th>\n",
       "      <th>Memory</th>\n",
       "      <th>Storage</th>\n",
       "      <th>CPU_class</th>\n",
       "      <th>Screen_size</th>\n",
       "      <th>year</th>\n",
       "      <th>price</th>\n",
       "    </tr>\n",
       "  </thead>\n",
       "  <tbody>\n",
       "    <tr>\n",
       "      <th>count</th>\n",
       "      <td>1000.000000</td>\n",
       "      <td>1000.000000</td>\n",
       "      <td>1000.000000</td>\n",
       "      <td>1000.000000</td>\n",
       "      <td>1000.000000</td>\n",
       "      <td>1000.000000</td>\n",
       "    </tr>\n",
       "    <tr>\n",
       "      <th>mean</th>\n",
       "      <td>18.704000</td>\n",
       "      <td>594.688000</td>\n",
       "      <td>1.502000</td>\n",
       "      <td>15.203200</td>\n",
       "      <td>2024.524000</td>\n",
       "      <td>130315.719000</td>\n",
       "    </tr>\n",
       "    <tr>\n",
       "      <th>std</th>\n",
       "      <td>10.009024</td>\n",
       "      <td>319.767594</td>\n",
       "      <td>1.123948</td>\n",
       "      <td>0.864278</td>\n",
       "      <td>0.499674</td>\n",
       "      <td>32338.091721</td>\n",
       "    </tr>\n",
       "    <tr>\n",
       "      <th>min</th>\n",
       "      <td>8.000000</td>\n",
       "      <td>256.000000</td>\n",
       "      <td>0.000000</td>\n",
       "      <td>14.000000</td>\n",
       "      <td>2024.000000</td>\n",
       "      <td>69302.000000</td>\n",
       "    </tr>\n",
       "    <tr>\n",
       "      <th>25%</th>\n",
       "      <td>8.000000</td>\n",
       "      <td>256.000000</td>\n",
       "      <td>1.000000</td>\n",
       "      <td>14.000000</td>\n",
       "      <td>2024.000000</td>\n",
       "      <td>105048.000000</td>\n",
       "    </tr>\n",
       "    <tr>\n",
       "      <th>50%</th>\n",
       "      <td>16.000000</td>\n",
       "      <td>512.000000</td>\n",
       "      <td>1.000000</td>\n",
       "      <td>15.600000</td>\n",
       "      <td>2025.000000</td>\n",
       "      <td>130536.000000</td>\n",
       "    </tr>\n",
       "    <tr>\n",
       "      <th>75%</th>\n",
       "      <td>32.000000</td>\n",
       "      <td>1024.000000</td>\n",
       "      <td>3.000000</td>\n",
       "      <td>16.000000</td>\n",
       "      <td>2025.000000</td>\n",
       "      <td>158933.750000</td>\n",
       "    </tr>\n",
       "    <tr>\n",
       "      <th>max</th>\n",
       "      <td>32.000000</td>\n",
       "      <td>1024.000000</td>\n",
       "      <td>3.000000</td>\n",
       "      <td>16.000000</td>\n",
       "      <td>2025.000000</td>\n",
       "      <td>195617.000000</td>\n",
       "    </tr>\n",
       "  </tbody>\n",
       "</table>\n",
       "</div>"
      ],
      "text/plain": [
       "            Memory      Storage    CPU_class  Screen_size         year  \\\n",
       "count  1000.000000  1000.000000  1000.000000  1000.000000  1000.000000   \n",
       "mean     18.704000   594.688000     1.502000    15.203200  2024.524000   \n",
       "std      10.009024   319.767594     1.123948     0.864278     0.499674   \n",
       "min       8.000000   256.000000     0.000000    14.000000  2024.000000   \n",
       "25%       8.000000   256.000000     1.000000    14.000000  2024.000000   \n",
       "50%      16.000000   512.000000     1.000000    15.600000  2025.000000   \n",
       "75%      32.000000  1024.000000     3.000000    16.000000  2025.000000   \n",
       "max      32.000000  1024.000000     3.000000    16.000000  2025.000000   \n",
       "\n",
       "               price  \n",
       "count    1000.000000  \n",
       "mean   130315.719000  \n",
       "std     32338.091721  \n",
       "min     69302.000000  \n",
       "25%    105048.000000  \n",
       "50%    130536.000000  \n",
       "75%    158933.750000  \n",
       "max    195617.000000  "
      ]
     },
     "execution_count": 14,
     "metadata": {},
     "output_type": "execute_result"
    }
   ],
   "source": [
    "df.describe()"
   ]
  },
  {
   "cell_type": "code",
   "execution_count": 19,
   "id": "2ab68647",
   "metadata": {},
   "outputs": [
    {
     "data": {
      "image/png": "[encoded data removed]",
      "text/plain": [
       "<Figure size 640x480 with 1 Axes>"
      ]
     },
     "metadata": {},
     "output_type": "display_data"
    }
   ],
   "source": [
    "# Simple bar plot of top 2 upgrades\n",
    "upgrade_names = [r['Upgrade'] for r in top2]\n",
    "profit_gains = [r['Gross_Profit_Gain'] for r in top2]\n",
    "\n",
    "plt.bar(upgrade_names, profit_gains, color='skyblue')\n",
    "plt.ylabel(\"Gross Profit Gain (Yen)\")\n",
    "plt.title(\"Top 2 Laptop Upgrades by Gross Profit Gain\")\n",
    "plt.xticks(rotation=15)\n",
    "plt.tight_layout()\n",
    "plt.show()\n"
   ]
  },
  {
   "cell_type": "markdown",
   "id": "cb621c11",
   "metadata": {},
   "source": [
    "since the dataset indicates that by adding 16 GB Memory and 512 GB Storage if we focus on the initial price, it would be the highest increase with minimum expenses rather than improve the CPU since there are no entries in the data for CPU class 2 while keeping all other specs cosntant, and upgrading by one level is not possible since the additional cost is the most expensive rather than the rest items of the laptop. the screen size is not quite necessary is just depends on the user. \n",
    "\n",
    "***therefore, the top two upgrades should be add 16 gb memory and add 512 gb storage***"
   ]
  }
 ],
 "metadata": {
  "kernelspec": {
   "display_name": "BSD-005",
   "language": "python",
   "name": "python3"
  },
  "language_info": {
   "codemirror_mode": {
    "name": "ipython",
    "version": 3
   },
   "file_extension": ".py",
   "mimetype": "text/x-python",
   "name": "python",
   "nbconvert_exporter": "python",
   "pygments_lexer": "ipython3",
   "version": "3.9.18"
  }
 },
 "nbformat": 4,
 "nbformat_minor": 5
}
